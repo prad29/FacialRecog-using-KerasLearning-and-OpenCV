{
  "nbformat": 4,
  "nbformat_minor": 0,
  "metadata": {
    "colab": {
      "name": "model_creation_VGG19.ipynb",
      "provenance": [],
      "collapsed_sections": []
    },
    "kernelspec": {
      "name": "python3",
      "display_name": "Python 3"
    },
    "accelerator": "GPU"
  },
  "cells": [
    {
      "cell_type": "code",
      "metadata": {
        "id": "9L2DzuFYXc-l",
        "colab_type": "code",
        "outputId": "ebf6c033-4ae5-4808-ec28-2efa0fee1843",
        "colab": {
          "base_uri": "https://localhost:8080/",
          "height": 122
        }
      },
      "source": [
        "from google.colab import drive\n",
        "drive.mount('/content/drive')"
      ],
      "execution_count": 0,
      "outputs": [
        {
          "output_type": "stream",
          "text": [
            "Go to this URL in a browser: https://accounts.google.com/o/oauth2/auth?client_id=947318989803-6bn6qk8qdgf4n4g3pfee6491hc0brc4i.apps.googleusercontent.com&redirect_uri=urn%3aietf%3awg%3aoauth%3a2.0%3aoob&response_type=code&scope=email%20https%3a%2f%2fwww.googleapis.com%2fauth%2fdocs.test%20https%3a%2f%2fwww.googleapis.com%2fauth%2fdrive%20https%3a%2f%2fwww.googleapis.com%2fauth%2fdrive.photos.readonly%20https%3a%2f%2fwww.googleapis.com%2fauth%2fpeopleapi.readonly\n",
            "\n",
            "Enter your authorization code:\n",
            "··········\n",
            "Mounted at /content/drive\n"
          ],
          "name": "stdout"
        }
      ]
    },
    {
      "cell_type": "code",
      "metadata": {
        "id": "Ljt-wnXWXqPp",
        "colab_type": "code",
        "outputId": "8029834e-1f8d-46b9-eaca-d9a5ed90face",
        "colab": {
          "base_uri": "https://localhost:8080/",
          "height": 972
        }
      },
      "source": [
        "from keras.layers import Dense # , Flatten\n",
        "from keras.applications import VGG19\n",
        "from keras.applications.vgg19 import preprocess_input\n",
        "from keras.preprocessing.image import ImageDataGenerator\n",
        "from keras.models import Sequential\n",
        "from glob import glob\n",
        "import matplotlib.pyplot as plt\n",
        "\n",
        "#creating the classifier\n",
        "image_resize = 224\n",
        "batch_size_training = 32\n",
        "batch_size_validation = 32\n",
        "\n",
        "# get number of classes\n",
        "folders = glob('/content/drive/My Drive/TransferLearning_OpenCV/dataset/train/*')\n",
        "num_classes = len(folders)\n",
        "\n",
        "#building the model\n",
        "model = Sequential()\n",
        "model.add(VGG19(\n",
        "    input_shape=[image_resize,image_resize]+[3],\n",
        "    include_top=False,\n",
        "    pooling='avg',\n",
        "    weights='imagenet',\n",
        "    ))\n",
        "#model.add(Flatten())\n",
        "#model.add(Dense(1000, activation='relu'))\n",
        "model.add(Dense(num_classes, activation='softmax'))\n",
        "\n",
        "# don't train existing weights\n",
        "model.layers[0].trainable = False\n",
        "\n",
        "print(\"layers of the model = \\n\",model.layers,\"\\n\")\n",
        "# print(\"vgg19 layers = \\n\",model.layers[0].layers)\n",
        "# print(\"output layer = \\n\",model.layers[1])\n",
        "print(model.summary())\n",
        "\n",
        "# compile model\n",
        "model.compile(\n",
        "    loss='categorical_crossentropy',\n",
        "    optimizer='adam',\n",
        "    metrics=['accuracy']\n",
        "    )\n",
        "\n",
        "#constructing DataGenerator for training and validation set\n",
        "data_generator = ImageDataGenerator(\n",
        "    preprocessing_function=preprocess_input,\n",
        "    #rescale = 1./255,\n",
        "    #shear_range = 0.2,\n",
        "    #zoom_range = 0.2,\n",
        "    #horizontal_flip = True\n",
        ")\n",
        "\n",
        "# reading the images\n",
        "train_generator = data_generator.flow_from_directory(\n",
        "    '/content/drive/My Drive/TransferLearning_OpenCV/dataset/train',\n",
        "    target_size=(image_resize, image_resize),\n",
        "    batch_size=batch_size_training,\n",
        "    class_mode='categorical'\n",
        ")\n",
        "\n",
        "validation_generator = data_generator.flow_from_directory(\n",
        "    '/content/drive/My Drive/TransferLearning_OpenCV/dataset/valid',\n",
        "    target_size = (image_resize, image_resize),\n",
        "    batch_size = batch_size_validation,\n",
        "    class_mode = 'categorical'\n",
        ")\n",
        "\n",
        "steps_per_epoch_training = len(train_generator)\n",
        "steps_per_epoch_validation = len(validation_generator)\n",
        "num_epochs = 3\n",
        "\n",
        "# fitting the model\n",
        "fit_history = model.fit_generator(\n",
        "    train_generator,\n",
        "    steps_per_epoch=steps_per_epoch_training,\n",
        "    epochs=num_epochs,\n",
        "    validation_data=validation_generator,\n",
        "    validation_steps=steps_per_epoch_validation,\n",
        "    verbose=1,\n",
        ")\n",
        "\n",
        "# loss\n",
        "plt.plot(fit_history.history['loss'], label='train loss')\n",
        "plt.plot(fit_history.history['val_loss'], label='val loss')\n",
        "plt.legend()\n",
        "plt.show()\n",
        "\n",
        "# accuracies\n",
        "plt.plot(fit_history.history['accuracy'], label='train acc')\n",
        "plt.plot(fit_history.history['val_accuracy'], label='val acc')\n",
        "plt.legend()\n",
        "plt.show()\n",
        "\n",
        "model.save('facefeatures_vgg19.h5')\n",
        "model.save(\"/content/drive/My Drive/TransferLearning_OpenCV/facefeatures_vgg19.h5\")"
      ],
      "execution_count": 0,
      "outputs": [
        {
          "output_type": "stream",
          "text": [
            "Using TensorFlow backend.\n"
          ],
          "name": "stderr"
        },
        {
          "output_type": "stream",
          "text": [
            "Downloading data from https://github.com/fchollet/deep-learning-models/releases/download/v0.1/vgg19_weights_tf_dim_ordering_tf_kernels_notop.h5\n",
            "80142336/80134624 [==============================] - 1s 0us/step\n",
            "layers of the model = \n",
            " [<keras.engine.training.Model object at 0x7fbaaee81668>, <keras.layers.core.Dense object at 0x7fba4c42b780>] \n",
            "\n",
            "Model: \"sequential_1\"\n",
            "_________________________________________________________________\n",
            "Layer (type)                 Output Shape              Param #   \n",
            "=================================================================\n",
            "vgg19 (Model)                (None, 512)               20024384  \n",
            "_________________________________________________________________\n",
            "dense_1 (Dense)              (None, 3)                 1539      \n",
            "=================================================================\n",
            "Total params: 20,025,923\n",
            "Trainable params: 1,539\n",
            "Non-trainable params: 20,024,384\n",
            "_________________________________________________________________\n",
            "None\n",
            "Found 596 images belonging to 3 classes.\n",
            "Found 599 images belonging to 3 classes.\n",
            "Epoch 1/3\n",
            "19/19 [==============================] - 301s 16s/step - loss: 1.2957 - accuracy: 0.5604 - val_loss: 0.3449 - val_accuracy: 0.9048\n",
            "Epoch 2/3\n",
            "19/19 [==============================] - 7s 359ms/step - loss: 0.1012 - accuracy: 0.9732 - val_loss: 0.0526 - val_accuracy: 0.9599\n",
            "Epoch 3/3\n",
            "19/19 [==============================] - 7s 391ms/step - loss: 0.0332 - accuracy: 0.9950 - val_loss: 0.1724 - val_accuracy: 0.9750\n"
          ],
          "name": "stdout"
        },
        {
          "output_type": "display_data",
          "data": {
            "image/png": "[encoded data removed]",
            "text/plain": [
              "<Figure size 432x288 with 1 Axes>"
            ]
          },
          "metadata": {
            "tags": [],
            "needs_background": "light"
          }
        },
        {
          "output_type": "display_data",
          "data": {
            "image/png": "[encoded data removed]",
            "text/plain": [
              "<Figure size 432x288 with 1 Axes>"
            ]
          },
          "metadata": {
            "tags": [],
            "needs_background": "light"
          }
        }
      ]
    },
    {
      "cell_type": "code",
      "metadata": {
        "id": "xm9rDHvh89WM",
        "colab_type": "code",
        "colab": {}
      },
      "source": [
        ""
      ],
      "execution_count": 0,
      "outputs": []
    }
  ]
}